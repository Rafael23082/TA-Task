{
 "cells": [
  {
   "cell_type": "code",
   "execution_count": 14,
   "metadata": {},
   "outputs": [
    {
     "name": "stdout",
     "output_type": "stream",
     "text": [
      "Length of the first word: 8\n",
      "First word:  Accuracy\n",
      "Length of the second word: 8\n",
      "Second word:  Cylinder\n",
      "Both words can be linked with the subword  cy\n"
     ]
    }
   ],
   "source": [
    "firstword = input(\"Enter the first word\")\n",
    "secondword = input(\"Enter the second word\")\n",
    "firstwordlength=len(firstword)\n",
    "secondwordlength=len(secondword)\n",
    "link = 0\n",
    "for i in range(1, min(len(firstword), len(secondword)) + 1):\n",
    "    if firstword[-i:].lower() == secondword[:i].lower():\n",
    "        link = firstword[-i:]\n",
    "if link:\n",
    "    print (f\"Length of the first word: {firstwordlength}\")\n",
    "    print(\"First word: \",str(firstword))\n",
    "    print (f\"Length of the second word: {secondwordlength}\")\n",
    "    print(\"Second word: \",str(secondword))\n",
    "    print(\"Both words can be linked with the subword \", str(link))\n",
    "else:\n",
    "    print(\"The word can't be linked\")\n"
   ]
  },
  {
   "cell_type": "code",
   "execution_count": 17,
   "metadata": {},
   "outputs": [
    {
     "name": "stdout",
     "output_type": "stream",
     "text": [
      "Input x: 13\n",
      "The smallest beautiful number divisible by 13 is 111111\n"
     ]
    }
   ],
   "source": [
    "num = int(input(\"Number: \"))\n",
    "count = 0\n",
    "beautifulNum = num\n",
    "while count == 0:\n",
    "    if beautifulNum%num == 0:\n",
    "        numList = []\n",
    "        for x in str(beautifulNum):\n",
    "            if int(x) in numList:\n",
    "                pass\n",
    "            else:\n",
    "                numList.append(int(x))\n",
    "        if len(numList) == 1:\n",
    "            count += 1\n",
    "            print(\"Input x:\",num)\n",
    "            print(f\"The smallest beautiful number divisible by\",num, \"is\" ,beautifulNum)\n",
    "    beautifulNum += 1"
   ]
  }
 ],
 "metadata": {
  "kernelspec": {
   "display_name": "Python 3",
   "language": "python",
   "name": "python3"
  },
  "language_info": {
   "codemirror_mode": {
    "name": "ipython",
    "version": 3
   },
   "file_extension": ".py",
   "mimetype": "text/x-python",
   "name": "python",
   "nbconvert_exporter": "python",
   "pygments_lexer": "ipython3",
   "version": "3.12.0"
  }
 },
 "nbformat": 4,
 "nbformat_minor": 2
}
